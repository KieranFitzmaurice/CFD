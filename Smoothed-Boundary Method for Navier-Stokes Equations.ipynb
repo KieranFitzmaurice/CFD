{
 "cells": [
  {
   "cell_type": "markdown",
   "metadata": {},
   "source": [
    "# Navier Stokes Equations\n",
    "\n",
    "The Navier-Stokes equations for an incompressible fluid are \n",
    "\n",
    "$$\n",
    "\\frac{\\partial \\vec{u}}{\\partial t} + (\\vec{u} \\cdot \\nabla) \\vec{u} = -\\frac{1}{\\rho} \\nabla p \n",
    "+ \\nu \\nabla ^2 \\vec{u} \\\\ \n",
    "\\nabla \\cdot \\vec{u} = 0\n",
    "$$\n",
    "\n",
    "Where $ \\vec{u} = (u,v,w) $ is a velocity field, $p$ is a scalar pressure field, $\\rho$ is fluid density, and $\\nu$ is the kinematic viscosity. In its current form, boundary conditions must be applied explicitly, making it difficult to solve for systems whose boundaries are not simple shapes. The smoothed-boundary method is a diffuse interface model which introduces a domain parameter $\\psi$, which allows us to solve the PDE within boundaries of arbitrary geometry, with boundary conditions imposed implicitly by the domain parameter. [Background on the smoothed-boundary method](https://arxiv.org/abs/1107.5341)"
   ]
  },
  {
   "cell_type": "markdown",
   "metadata": {},
   "source": [
    "# SBM  for Momentum Equations\n",
    "\n",
    "Since velocity $\\vec{u}$ is a vector field, note that we will apply the standard abuse of notation where \n",
    "\n",
    "$$\n",
    "\\nabla \\vec{u} = \n",
    "\\begin{bmatrix}\n",
    "    \\frac{\\partial}{\\partial x} \\\\\n",
    "    \\frac{\\partial}{\\partial y}\n",
    "\\end{bmatrix}\n",
    "\\begin{bmatrix}\n",
    "    u & v\n",
    "\\end{bmatrix}\n",
    "=\n",
    "\\begin{bmatrix}\n",
    "    \\frac{\\partial u}{\\partial x} & \\frac{\\partial v}{\\partial x} \\\\\n",
    "    \\frac{\\partial u}{\\partial y} & \\frac{\\partial v}{\\partial y}\n",
    "\\end{bmatrix}\n",
    "\\hspace{2cm}\n",
    "\\nabla \\cdot \\vec{u} = \\bigg[ \\frac{\\partial}{\\partial x} ~~~ \\frac{\\partial}{\\partial y} \\bigg]\n",
    "\\begin{bmatrix}\n",
    "    u \\\\\n",
    "    v\n",
    "\\end{bmatrix}\n",
    "= \\frac{\\partial u}{\\partial x} + \\frac{\\partial v}{\\partial y}\n",
    "$$\n",
    "\n",
    "We can apply the smoothed boundary method to the velocity field by multiplying both sides of the momentum equation by the domain parameter $\\psi$, and applying the idendtity $\\psi \\nabla^2 \\vec{u} = \\nabla \\cdot \\left(\\psi \\nabla \\vec{u} \\right) - \\nabla \\psi \\cdot \\nabla \\vec{u}$. The resulting equation is\n",
    "\n",
    "$$\n",
    "\\psi \\frac{\\partial \\vec{u}}{\\partial t} + \\psi \\left(\\vec{u}\\cdot \\nabla \\vec{u} \\right) =\n",
    "-\\frac{\\psi}{\\rho} \\nabla p + \\nu \\left(\\nabla \\cdot \\left(\\psi \\nabla \\vec{u} \\right) - \\nabla \\psi \\cdot \\nabla \\vec{u} \\right)\n",
    "$$\n",
    "\n",
    "Our wall boundary conditions are characterized by the amount of \"slip\" between the surface and the solid wall. This can be written as the directional derivative $\\nabla_{\\vec{n}} u$, where $\\vec{n}$ is the normal vector to the fluid-wall interface. Using our domain parameter, we can say that $\\vec{n} = \\frac{\\nabla \\psi}{|\\nabla \\psi|}$. This allows us to implicitly impose our boundary conditions as follows\n",
    "\n",
    "$$\n",
    "\\nabla_\\vec{n} \\vec{u} = \\nabla \\vec{u} \\cdot \\frac{\\nabla \\psi}{\\left|\\nabla \\psi \\right|} = B_{slip} \\\\\n",
    "\\Rightarrow \\nabla \\psi \\cdot \\nabla \\vec{u} = \\left|\\nabla \\psi \\right| B_{slip}\n",
    "$$\n",
    "\n",
    "We can now substitute this term into our momentum equation to implicitly impose our wall boundary conditions.\n",
    "\n",
    "$$\n",
    "\\psi \\frac{\\partial \\vec{u}}{\\partial t} + \\psi \\left(\\vec{u}\\cdot \\nabla \\vec{u} \\right) =\n",
    "-\\frac{\\psi}{\\rho} \\nabla p + \\nu \\left(\\nabla \\cdot \\left(\\psi \\nabla \\vec{u} \\right) - \\left|\\nabla \\psi \\right| B_{slip} \\right)\n",
    "$$\n",
    "\n",
    "For no-slip boundary conditions, $B_{slip} = 0$, and the equation becomes\n",
    "\n",
    "$$\n",
    "\\psi \\frac{\\partial \\vec{u}}{\\partial t} + \\psi \\left(\\vec{u}\\cdot \\nabla \\vec{u} \\right) =\n",
    "-\\frac{\\psi}{\\rho} \\nabla p + \\nu \\nabla \\cdot \\left(\\psi \\nabla \\vec{u} \\right)\n",
    "$$\n",
    "\n",
    "In two dimensions, we can write the smooth-boundary formulation of the momentum equations as \n",
    "\n",
    "$$\n",
    "\\psi \\frac{\\partial u}{\\partial t} + \\psi\\left(u\\frac{\\partial u}{\\partial x} + v \\frac{\\partial u}{\\partial y}\\right) =\n",
    "-\\frac{\\psi}{\\rho}\\left(\\frac{\\partial p}{\\partial x}\\right) + \\nu \\nabla \\cdot \\left(\\psi \\nabla u \\right) \n",
    "$$\n",
    "\n",
    "$$\n",
    "\\psi \\frac{\\partial v}{\\partial t} + \\psi\\left(u\\frac{\\partial v}{\\partial x} + v \\frac{\\partial v}{\\partial y}\\right) =\n",
    "-\\frac{\\psi}{\\rho}\\left(\\frac{\\partial p}{\\partial y}\\right) + \\nu \\nabla \\cdot \\left(\\psi \\nabla v \\right) \n",
    "$$"
   ]
  },
  {
   "cell_type": "markdown",
   "metadata": {},
   "source": [
    "# SBM for Pressure Equations\n",
    "\n",
    "To numerically solve the momentum equation, we choose the following time scheme:\n",
    "\n",
    "$$\n",
    "\\frac{\\left(\\vec{u}^{n+1} - \\vec{u}^{n + \\frac{1}{2}}\\right)\n",
    "- \\left(\\vec{u}^{n+\\frac{1}{2}} - \\vec{u}^n \\right)\n",
    "}{\\Delta t}\n",
    "+ \\vec{u}^n \\cdot \\nabla \\vec{u}^n = -\\frac{1}{\\rho} \\nabla p^{n + \\frac{1}{2}} + \\frac{\\nu}{\\psi} \\nabla \\cdot \\left(\\psi \\nabla \\vec{u}^n \\right) \n",
    "$$\n",
    "\n",
    "We can decouple pressure and velocity fields as\n",
    "\n",
    "$$\n",
    "\\frac{\\vec{u}^{n + \\frac{1}{2}} - \\vec{u}^n}{\\Delta t} + \\vec{u}^n \\cdot \\nabla \\vec{u}^n = \\frac{\\nu}{\\psi} \\nabla \\cdot \\left(\\psi \\nabla \\vec{u}^n \\right)\n",
    "$$\n",
    "\n",
    "$$\n",
    "\\frac{\\vec{u}^{n+1} - \\vec{u}^{n + \\frac{1}{2}}}{\\Delta t} = - \\frac{1}{\\rho}\\nabla p^{n + \\frac{1}{2}}\n",
    "$$\n",
    "\n",
    "Taking the divergence of the pressure equation, and forcing $\\nabla \\cdot \\vec{u}^{n + 1} = 0~$ in order to ensure continuity, we obtain a Poisson equation for pressure.\n",
    "\n",
    "$$\n",
    "\\nabla^2 p^{n + \\frac{1}{2}} = \\rho \\frac{\\nabla \\cdot \\vec{u}^{n+\\frac{1}{2}}}{\\Delta t}\n",
    "$$\n",
    "\n",
    "Multiplying both sides of our poisson equation by the domain parameter $\\psi$, and applying the identity $~\\psi \\nabla^2 p = \\nabla \\cdot \\left( \\psi \\nabla p\\right) - \\nabla \\psi \\cdot \\nabla p~$, our equation becomes \n",
    "\n",
    "$$\n",
    "\\nabla \\cdot \\left( \\psi \\nabla p^{n+\\frac{1}{2}}\\right) - \\nabla \\psi \\cdot \\nabla p^{n + \\frac{1}{2}}\n",
    "= \\psi \\rho \\frac{\\nabla \\cdot \\vec{u}^{n + \\frac{1}{2}}}{\\Delta t}\n",
    "$$\n",
    "\n",
    "The pressure gradient at the across a boundary is what drives the flow of fluid across it. It can be thought of as the directional derivative $\\nabla_{\\vec{n}} p$, where $\\vec{n}$ is the unit normal vector at the interface. Using our domain parameter, we can say that $\\vec{n} = \\frac{\\nabla \\psi}{|\\nabla \\psi|}$. This allows us to implicitly impose our boundary conditions as follows\n",
    "\n",
    "$$\n",
    "\\nabla_\\vec{n} p = \\nabla p \\cdot \\frac{\\nabla \\psi}{\\left|\\nabla \\psi \\right|} = B_{p}\n",
    "~~\\Rightarrow~~ \\nabla \\psi \\cdot \\nabla p = \\left|\\nabla \\psi \\right| B_{p}\n",
    "$$\n",
    "\n",
    "We can substitute this term into our equation to implicitly impose our boundary conditions. Now, the pressure equation becomes \n",
    "\n",
    "$$\n",
    "\\nabla \\cdot \\left( \\psi \\nabla p^{n+\\frac{1}{2}}\\right) - \\left|\\nabla \\psi \\right| B_{p}\n",
    "= \\psi \\rho \\frac{\\nabla \\cdot \\vec{u}^{n + \\frac{1}{2}}}{\\Delta t}\n",
    "$$\n",
    "\n",
    "For no-flux boundaries, $B_p = 0$, and we are left with \n",
    "\n",
    "$$\n",
    "\\nabla \\cdot \\left( \\psi \\nabla p^{n+\\frac{1}{2}}\\right)\n",
    "= \\psi \\rho \\frac{\\nabla \\cdot \\vec{u}^{n + \\frac{1}{2}}}{\\Delta t}\n",
    "$$\n",
    "\n",
    "Before we advance our velocity field to time $n+1$, we must solve the above equation for pressure in order to ensure conitunity is satisfied. We can do this iteratively using the Gauss-Seidel method."
   ]
  },
  {
   "cell_type": "markdown",
   "metadata": {},
   "source": [
    "# Numerical Scheme "
   ]
  },
  {
   "cell_type": "code",
   "execution_count": 1,
   "metadata": {
    "collapsed": true
   },
   "outputs": [],
   "source": [
    "import numpy as np\n",
    "import matplotlib.pyplot as plt\n",
    "from matplotlib.animation import FuncAnimation\n",
    "from IPython.display import HTML"
   ]
  },
  {
   "cell_type": "markdown",
   "metadata": {},
   "source": [
    "**(1) Calculate advection terms using 1st order upwind scheme **\n",
    "\n",
    "$$u \\frac{\\partial u}{\\partial x} = u_{i,j} \\frac{u_{i,j} - u_{i,j-1}}{\\Delta x} ~~\\text{for}~~ u_{i,j} > 0$$\n",
    "\n",
    "$$u \\frac{\\partial u}{\\partial x} = u_{i,j} \\frac{u_{i,j+1} - u_{i,j}}{\\Delta x} ~~\\text{for}~~ u_{i,j} < 0$$"
   ]
  },
  {
   "cell_type": "code",
   "execution_count": 2,
   "metadata": {
    "collapsed": true
   },
   "outputs": [],
   "source": [
    "def advec_terms_2D(nx,ny,dx,dy,u,v,vel):\n",
    "    \"\"\"\n",
    "    Calculates advection terms of Navier-Stokes equation using 1st order upwind scheme\n",
    "    \n",
    "    nx,ny = number of grid points in x and y directions\n",
    "    dx,dy = lattice spacing in x and y directions \n",
    "    u,v = x and y components of velocity field\n",
    "    vel = component u or v of velocity field for which you are solving NS equation \n",
    "    \"\"\"\n",
    "    advec_x = np.zeros((ny,nx))\n",
    "    advec_y = np.zeros((ny,nx))\n",
    "    advec_2D = np.zeros((ny,nx))\n",
    "    \n",
    "    for i in range(1,ny-1):\n",
    "        for j in range(1,nx-1):\n",
    "            \n",
    "            if u[i,j] > 0:\n",
    "                advec_x[i,j] = u[i,j] * (u[i,j] - u[i,j-1])/dx\n",
    "            else:\n",
    "                advec_x[i,j] = u[i,j] * (u[i,j+1] - u[i,j])/dx\n",
    "                \n",
    "            if v[i,j] > 0:\n",
    "                advec_y[i,j] = v[i,j] * (v[i,j] - v[i-1,j])/dy\n",
    "            else:\n",
    "                advec_y[i,j] = v[i,j] * (v[i+1,j] - v[i,j])/dy\n",
    "                \n",
    "    advec_2D[1:ny-1,1:nx-1] = advec_x[1:ny-1,1:nx-1] + advec_y[1:ny-1,1:nx-1]\n",
    "            \n",
    "    return(advec_2D)"
   ]
  },
  {
   "cell_type": "markdown",
   "metadata": {},
   "source": [
    "** (2) Calculate derivatives using 1st order central differencing **\n",
    "\n",
    "$$\\frac{\\partial p}{\\partial x} = \\frac{p_{i,j+1} - p_{i,j-1} }{2\\Delta x} $$"
   ]
  },
  {
   "cell_type": "code",
   "execution_count": 3,
   "metadata": {
    "collapsed": true
   },
   "outputs": [],
   "source": [
    "def gradient_2D(nx,ny,dx,dy,f):\n",
    "    \"\"\"\n",
    "    Calculates 1st derivatives using central difference \n",
    "    \n",
    "    nx,ny = number of grid points in x and y directions\n",
    "    dx,dy = lattice spacing in x and y directions\n",
    "    f = argument to take gradient of   \n",
    "    \"\"\"\n",
    "    \n",
    "    dfdx = np.zeros((ny,nx))\n",
    "    dfdy = np.zeros((ny,nx))\n",
    "    \n",
    "    dfdx[1:ny-1,1:nx-1] = (f[1:ny-1,2:nx] - f[1:ny-1,0:nx-2])/(2*dx)\n",
    "    dfdy[1:ny-1,1:nx-1] = (f[2:ny,1:nx-1] - f[0:ny-2,1:nx-1])/(2*dy)\n",
    "    \n",
    "    return(dfdx,dfdy) "
   ]
  },
  {
   "cell_type": "markdown",
   "metadata": {},
   "source": [
    "** (3) Calculate laplacians using 2nd order central differencing **\n",
    "\n",
    "$$\\frac{\\partial^2 u}{\\partial x^2} + \\frac{\\partial^2 u}{\\partial y^2} = \\frac{u_{i,j-1} - 2 u_{i,j} + u_{i,j+1}}{\\Delta x^2} + \\frac{u_{i-1,j} - 2 u_{i,j} + u_{i+1,j}}{\\Delta y^2}$$\n"
   ]
  },
  {
   "cell_type": "code",
   "execution_count": 4,
   "metadata": {
    "collapsed": true
   },
   "outputs": [],
   "source": [
    "def laplacian_2D(nx,ny,dx,dy,f):\n",
    "    \"\"\"\n",
    "    Calculates laplacian using 2nd order central difference \n",
    "    \n",
    "    nx,ny = number of grid points in x and y directions\n",
    "    dx,dy = lattice spacing in x and y directions\n",
    "    f = argument to take laplacian of \n",
    "    \"\"\"\n",
    "    \n",
    "    lap = np.zeros((ny,nx))\n",
    "    \n",
    "    lap[1:ny-1,1:nx-1] = (f[1:ny-1,0:nx-2] - 2*f[1:ny-1,1:nx-1] + f[1:ny-1,2:nx])/(dx**2) + \\\n",
    "                         (f[0:ny-2,1:nx-1] - 2*f[1:ny-1,1:nx-1] + f[2:ny,1:nx-1])/(dy**2)\n",
    "        \n",
    "    return(lap)"
   ]
  },
  {
   "cell_type": "markdown",
   "metadata": {},
   "source": [
    "** (4) Calculate 2nd order \"diagonal\" terms as follows **\n",
    "\n",
    "\\begin{align}\n",
    "& \\left[ \\nabla \\cdot \\left( \\psi \\nabla p\\right)\\right]_{i,j} = \\\\\n",
    "& \\hspace{3cm} ~~~~ \\left(\\frac{\\psi_{i,j+1} + \\psi_{i,j}}{2{\\Delta x}^2} \\right) p_{i,j+1}\n",
    "+ \\left(\\frac{\\psi_{i,j} + \\psi_{i,j-1}}{2{\\Delta x}^2} \\right) p_{i,j-1}\n",
    "+ \\left(\\frac{\\psi_{i+1,j} + \\psi_{i,j}}{2{\\Delta y}^2} \\right) p_{i+1,j}\n",
    "+ \\left(\\frac{\\psi_{i,j} + \\psi_{i-1,j}}{2{\\Delta y}^2} \\right) p_{i-1,j} \\\\\n",
    "& \\hspace{3cm}\n",
    "- \\left(\\frac{\\psi_{i,j+1} + 2\\psi_{i,j} + \\psi_{i,j-1}}{2{\\Delta x}^2} + \\frac{\\psi_{i+1,j} + 2\\psi_{i,j} + \\psi_{i-1,j}}{2{\\Delta y}^2} \\right) p_{i,j}\n",
    "\\end{align}\n"
   ]
  },
  {
   "cell_type": "code",
   "execution_count": null,
   "metadata": {
    "collapsed": true
   },
   "outputs": [],
   "source": []
  },
  {
   "cell_type": "markdown",
   "metadata": {},
   "source": [
    " **(5) Calculate the right-hand side of pressure poisson equation **\n",
    "\n"
   ]
  }
 ],
 "metadata": {
  "kernelspec": {
   "display_name": "Python 3",
   "language": "python",
   "name": "python3"
  },
  "language_info": {
   "codemirror_mode": {
    "name": "ipython",
    "version": 3
   },
   "file_extension": ".py",
   "mimetype": "text/x-python",
   "name": "python",
   "nbconvert_exporter": "python",
   "pygments_lexer": "ipython3",
   "version": "3.6.1"
  }
 },
 "nbformat": 4,
 "nbformat_minor": 2
}
