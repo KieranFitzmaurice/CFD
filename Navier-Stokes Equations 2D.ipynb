{
 "cells": [
  {
   "cell_type": "markdown",
   "metadata": {
    "collapsed": true
   },
   "source": [
    "# Incompressible fluids\n",
    "\n",
    "The Navier-Stokes equations for an incompressible fluid are \n",
    "\n",
    "$$\n",
    "\\frac{\\partial \\vec{u}}{\\partial t} + (\\vec{u} \\cdot \\nabla) \\vec{u} = -\\frac{1}{\\rho} \\nabla p \n",
    "+ \\nu \\nabla ^2 \\vec{u} \\\\ \n",
    "\\nabla \\cdot \\vec{u} = 0\n",
    "$$"
   ]
  },
  {
   "cell_type": "markdown",
   "metadata": {},
   "source": [
    "Where $ \\vec{u} = (u,v,w) $ is a velocity field, $p$ is a scalar pressure field, $\\rho$ is fluid density, and $\\nu$ is the kinematic viscosity. The first equation represents the volume conservation, which is equivalent to mass conservation for an incompressible fluid. For a 2D system, we can write the first equation as \n",
    "\n",
    "$$\n",
    "\\frac{\\partial u}{\\partial t} + u\\frac{\\partial u}{\\partial x} + v \\frac{\\partial u}{\\partial y} =\n",
    "-\\frac{1}{\\rho}\\left(\\frac{\\partial p}{\\partial x}\\right) + \\nu \\left( \\frac{\\partial^2 u}{\\partial x^2} + \\frac{\\partial^2 u}{\\partial y^2} \\right)\n",
    "$$\n",
    "\n",
    "$$\n",
    "\\frac{\\partial v}{\\partial t} + u\\frac{\\partial v}{\\partial x} + v \\frac{\\partial v}{\\partial y} =\n",
    "-\\frac{1}{\\rho}\\left(\\frac{\\partial p}{\\partial y}\\right) + \\nu \\left( \\frac{\\partial^2 v}{\\partial x^2} + \\frac{\\partial^2 v}{\\partial y^2} \\right)\n",
    "$$\n",
    "\n",
    "\n",
    "The second equation represents the conservation of momentum in our system, given by a force balance. To numerically solve the momentum equation, we choose the following time scheme:\n",
    "\n",
    "$$\n",
    "\\frac{\\left(\\vec{u}^{n+1} - \\vec{u}^{n + \\frac{1}{2}}\\right)\n",
    "- \\left(\\vec{u}^{n+\\frac{1}{2}} - \\vec{u}^n \\right)\n",
    "}{\\Delta t}\n",
    "+ \\vec{u}^n \\cdot \\nabla \\vec{u}^n = -\\frac{1}{\\rho} \\nabla p^{n + \\frac{1}{2}} + \\nu \\nabla^2\\vec{u}^n\n",
    "$$"
   ]
  },
  {
   "cell_type": "markdown",
   "metadata": {},
   "source": [
    "We can decouple pressure and velocity fields as\n",
    "\n",
    "$$\n",
    "\\frac{\\vec{u}^{n + \\frac{1}{2}} - \\vec{u}^n}{\\Delta t} + \\vec{u}^n \\cdot \\nabla \\vec{u}^n = \\nu \\nabla^2 \\vec{u}^n\n",
    "$$\n",
    "$$\n",
    "\\frac{\\vec{u}^{n+1} - \\vec{u}^{n + \\frac{1}{2}}}{\\Delta t} = - \\frac{1}{\\rho}\\nabla p^{n + \\frac{1}{2}}\n",
    "$$\n",
    "\n",
    "Taking the divergence of the pressure equation, and forcing $\\nabla \\cdot \\vec{u}^{n + 1} = 0~$ in order to ensure continuity, we obtain a Poisson equation for pressure.\n",
    "\n",
    "$$\n",
    "\\nabla^2 p^{n + \\frac{1}{2}} = \\rho \\frac{\\nabla \\cdot \\vec{u}^{n+\\frac{1}{2}}}{\\Delta t}\n",
    "$$\n",
    "\n",
    "We can iteratively solve for $p^{n+\\frac{1}{2}}~$ using the Gauss-Seidel method, and then advance the velocity field from $\\vec{u}^{n+\\frac{1}{2}}~$ to $\\vec{u}^{n+1}$"
   ]
  },
  {
   "cell_type": "markdown",
   "metadata": {},
   "source": [
    "# Numerical Scheme"
   ]
  },
  {
   "cell_type": "code",
   "execution_count": 1,
   "metadata": {
    "collapsed": true
   },
   "outputs": [],
   "source": [
    "import numpy as np\n",
    "import matplotlib.pyplot as plt\n",
    "from matplotlib.animation import FuncAnimation\n",
    "from IPython.display import HTML"
   ]
  },
  {
   "cell_type": "markdown",
   "metadata": {},
   "source": [
    "**(1) Calculate advection terms using 1st order upwind scheme **\n",
    "\n",
    "$$u \\frac{\\partial u}{\\partial x} = u_{i,j} \\frac{u_{i,j} - u_{i,j-1}}{\\Delta x} ~~\\text{for}~~ u_{i,j} > 0$$\n",
    "\n",
    "$$u \\frac{\\partial u}{\\partial x} = u_{i,j} \\frac{u_{i,j+1} - u_{i,j}}{\\Delta x} ~~\\text{for}~~ u_{i,j} < 0$$"
   ]
  },
  {
   "cell_type": "code",
   "execution_count": 2,
   "metadata": {
    "collapsed": true
   },
   "outputs": [],
   "source": [
    "def advec_terms_2D(nx,ny,dx,dy,u,v,vel):\n",
    "    \"\"\"\n",
    "    Calculates advection terms of Navier-Stokes equation using 1st order upwind scheme\n",
    "    \n",
    "    nx,ny = number of grid points in x and y directions\n",
    "    dx,dy = lattice spacing in x and y directions \n",
    "    u,v = x and y components of velocity field\n",
    "    vel = component u or v of velocity field for which you are solving NS equation \n",
    "    \"\"\"\n",
    "    advec_x = np.zeros((ny,nx))\n",
    "    advec_y = np.zeros((ny,nx))\n",
    "    advec_2D = np.zeros((ny,nx))\n",
    "    \n",
    "    for i in range(1,ny-1):\n",
    "        for j in range(1,nx-1):\n",
    "            \n",
    "            if u[i,j] > 0:\n",
    "                advec_x[i,j] = u[i,j] * (u[i,j] - u[i,j-1])/dx\n",
    "            else:\n",
    "                advec_x[i,j] = u[i,j] * (u[i,j+1] - u[i,j])/dx\n",
    "                \n",
    "            if v[i,j] > 0:\n",
    "                advec_y[i,j] = v[i,j] * (v[i,j] - v[i-1,j])/dy\n",
    "            else:\n",
    "                advec_y[i,j] = v[i,j] * (v[i+1,j] - v[i,j])/dy\n",
    "                \n",
    "    advec_2D[1:ny-1,1:nx-1] = advec_x[1:ny-1,1:nx-1] + advec_y[1:ny-1,1:nx-1]\n",
    "            \n",
    "    return(advec_2D)"
   ]
  },
  {
   "cell_type": "markdown",
   "metadata": {},
   "source": [
    "** (2) Calculate derivatives using 1st order central differencing **\n",
    "\n",
    "$$\\frac{\\partial p}{\\partial x} = \\frac{p_{i,j+1} - p_{i,j-1} }{2\\Delta x} $$"
   ]
  },
  {
   "cell_type": "code",
   "execution_count": 3,
   "metadata": {
    "collapsed": true
   },
   "outputs": [],
   "source": [
    "def gradient_2D(nx,ny,dx,dy,f):\n",
    "    \"\"\"\n",
    "    Calculates 1st derivatives using central difference \n",
    "    \n",
    "    nx,ny = number of grid points in x and y directions\n",
    "    dx,dy = lattice spacing in x and y directions\n",
    "    f = argument to take gradient of   \n",
    "    \"\"\"\n",
    "    \n",
    "    dfdx = np.zeros((ny,nx))\n",
    "    dfdy = np.zeros((ny,nx))\n",
    "    \n",
    "    dfdx[1:ny-1,1:nx-1] = (f[1:ny-1,2:nx] - f[1:ny-1,0:nx-2])/(2*dx)\n",
    "    dfdy[1:ny-1,1:nx-1] = (f[2:ny,1:nx-1] - f[0:ny-2,1:nx-1])/(2*dy)\n",
    "    \n",
    "    return(dfdx,dfdy) "
   ]
  },
  {
   "cell_type": "markdown",
   "metadata": {},
   "source": [
    "** (3) Calculate laplacians using 2nd order central differencing **\n",
    "\n",
    "$$\\frac{\\partial^2 u}{\\partial x^2} + \\frac{\\partial^2 u}{\\partial y^2} = \\frac{u_{i,j-1} - 2 u_{i,j} + u_{i,j+1}}{\\Delta x^2} + \\frac{u_{i-1,j} - 2 u_{i,j} + u_{i+1,j}}{\\Delta y^2}$$\n"
   ]
  },
  {
   "cell_type": "code",
   "execution_count": 4,
   "metadata": {
    "collapsed": true
   },
   "outputs": [],
   "source": [
    "def laplacian_2D(nx,ny,dx,dy,f):\n",
    "    \"\"\"\n",
    "    Calculates laplacian using 2nd order central difference \n",
    "    \n",
    "    nx,ny = number of grid points in x and y directions\n",
    "    dx,dy = lattice spacing in x and y directions\n",
    "    f = argument to take laplacian of \n",
    "    \"\"\"\n",
    "    \n",
    "    lap = np.zeros((ny,nx))\n",
    "    \n",
    "    lap[1:ny-1,1:nx-1] = (f[1:ny-1,0:nx-2] - 2*f[1:ny-1,1:nx-1] + f[1:ny-1,2:nx])/(dx**2) + \\\n",
    "                         (f[0:ny-2,1:nx-1] - 2*f[1:ny-1,1:nx-1] + f[2:ny,1:nx-1])/(dy**2)\n",
    "        \n",
    "    return(lap)"
   ]
  },
  {
   "cell_type": "markdown",
   "metadata": {},
   "source": [
    "**(4) Calculate the right-hand side of pressure poisson equation **\n",
    "\n",
    "$$\n",
    "b_{i,j} = \\frac{\\rho}{\\Delta t} \\left(\\frac{\\partial u}{\\partial x} + \\frac{\\partial v}{\\partial y}\\right)\n",
    "$$"
   ]
  },
  {
   "cell_type": "code",
   "execution_count": 5,
   "metadata": {
    "collapsed": true
   },
   "outputs": [],
   "source": [
    "def RHS_poisson(nx,ny,dx,dy,rho,dt,u,v):\n",
    "    \"\"\"\n",
    "    Calculates right hand side of pressure-poisson equation \n",
    "    \n",
    "    nx,ny = number of grid points in x and y directions\n",
    "    dx,dy = lattice spacing in x and y directions\n",
    "    rho = density\n",
    "    dt = timestep\n",
    "    u,v = x and y components of velocity field \n",
    "    \"\"\"\n",
    "    \n",
    "    dudx,dudy = gradient_2D(nx,ny,dx,dy,u)\n",
    "    dvdx,dvdy = gradient_2D(nx,ny,dx,dy,v)\n",
    "    \n",
    "    b = (rho/dt)*(dudx + dvdy)\n",
    "    \n",
    "    return(b)"
   ]
  },
  {
   "cell_type": "markdown",
   "metadata": {},
   "source": [
    "**(5) Use Gauss-Seidel SOR method to iteratively solve poisson equation for pressure**\n",
    "\n",
    "The Gauss-Seidel method is an iterative method for solving systems of linear equations. It is similar to the Jacobi relaxation method, but has the advantage of referencing already updated points each time it loops through the array. The order in which we go through the elements doesn't matter, so we can choose to do so in a Red-Black \"checkerboard\" pattern in order to maximize the amount of updated points available. In addition, execution time can further be reduced via *over-relaxation*, in which we over-correct our system in order to reach convergence faster. [More on iterative methods for linear systems](https://math.berkeley.edu/~wilken/228A.F07/chr_lecture.pdf)\n",
    "\n",
    "We advance our pressure in pseudo-time $m$ according to the following scheme until convergence:\n",
    "\n",
    "$$\n",
    "p_{i,j}^{m+1} = p_{i,j}^m + \\omega \\left(\\frac{b_{i,j} - \\sigma}{a} - p_{i,j}^m\\right) \\\\\n",
    "$$\n",
    "\n",
    "where \n",
    "\n",
    "$$ \n",
    "\\sigma = \\frac{1}{{\\Delta x}^2}\\left(p_{i,j-1} + p_{i,j+1}\\right) + \\frac{1}{{\\Delta y}^2}\\left(p_{i-1,j} + p_{i+1,j}\\right) \n",
    "\\hspace{1cm}\n",
    "a = {-2}\\left(\\frac{1}{{\\Delta x}^2} + \\frac{1}{{\\Delta y}^2}\\right)\n",
    "\\hspace{1cm}\n",
    "\\omega = \\frac{2}{1 + \\sin\\left(\\frac{2\\pi}{n}\\right)}\n",
    "$$"
   ]
  },
  {
   "cell_type": "code",
   "execution_count": 6,
   "metadata": {
    "collapsed": true
   },
   "outputs": [],
   "source": [
    "def solve_poisson_2D(nx,ny,dx,dy,b,p,tol):\n",
    "    \"\"\"\n",
    "    Solves poisson equation for pressure using successive over-relaxation method\n",
    "    \n",
    "    nx,ny = number of grid points in x and y direction\n",
    "    dx,dy = lattice spacing in x and y directions\n",
    "    b = right hand side of pressure poisson equation\n",
    "    p = initial guess for pressure profile\n",
    "    tol = convergence criteria\n",
    "    \"\"\"\n",
    "    \n",
    "    resd = np.zeros((ny,nx))\n",
    "    tmp = np.zeros((ny,nx))\n",
    "    \n",
    "    nrm = 1.0\n",
    "    omega = 2/(1 + np.sin(np.pi*dx))\n",
    "    a = -2*(1/dx**2 + 1/dy**2)\n",
    "    \n",
    "    # Red-black ordering \n",
    "    \n",
    "    b1_top = 1 # Start with black top left corner\n",
    "    b1_left = 1\n",
    "    b2_top = 2\n",
    "    b2_left = 2\n",
    "    \n",
    "    r1_top = 1\n",
    "    r1_left = 2\n",
    "    r2_top = 2\n",
    "    r2_left = 1\n",
    "    \n",
    "    if nx % 2 == 0:     # even number of columns\n",
    "        \n",
    "        b1_right = nx - 2\n",
    "        b2_right = nx - 1\n",
    "        r1_right = nx - 1\n",
    "        r2_right = nx - 2\n",
    "        \n",
    "    else:               # odd number of columns\n",
    "        \n",
    "        b1_right = nx - 1\n",
    "        b2_right = nx - 2\n",
    "        r1_right = nx - 2\n",
    "        r2_right = nx - 1\n",
    "        \n",
    "    if ny % 2 == 0:     # even number of rows\n",
    "        \n",
    "        b1_bottom = ny - 2\n",
    "        b2_bottom = ny - 1\n",
    "        r1_bottom = ny - 2\n",
    "        r2_bottom = ny - 1\n",
    "        \n",
    "    else:               # odd number of rows\n",
    "        \n",
    "        b1_bottom = ny - 1\n",
    "        b2_bottom = ny - 2\n",
    "        r1_bottom = ny - 1\n",
    "        r2_bottom = ny - 2\n",
    "\n",
    "        \n",
    "    niter = 0\n",
    "    while nrm > tol:\n",
    "        \n",
    "        # Loop though pressure array in red-black order \n",
    "        \n",
    "        for i in range(b1_top,b1_bottom+1,2):\n",
    "            for j in range(b1_left,b1_right+1,2):\n",
    "                # SOR method\n",
    "                sigma = (p[i,j-1] + p[i,j+1])/dx**2 + (p[i-1,j] + p[i+1,j])/dy**2\n",
    "                p[i,j] = p[i,j] + omega*((b[i,j] - sigma)/a - p[i,j])\n",
    "                \n",
    "        for i in range(b2_top,b2_bottom+1,2):\n",
    "            for j in range(b2_left,b2_right+1,2):\n",
    "                sigma = (p[i,j-1] + p[i,j+1])/dx**2 + (p[i-1,j] + p[i+1,j])/dy**2\n",
    "                p[i,j] = p[i,j] + omega*((b[i,j] - sigma)/a - p[i,j])\n",
    "        \n",
    "        for i in range(r1_top,r1_bottom+1,2):\n",
    "            for j in range(r1_left,r1_right+1,2):\n",
    "                sigma = (p[i,j-1] + p[i,j+1])/dx**2 + (p[i-1,j] + p[i+1,j])/dy**2\n",
    "                p[i,j] = p[i,j] + omega*((b[i,j] - sigma)/a - p[i,j])\n",
    "                \n",
    "        for i in range(r2_top,r2_bottom+1,2):\n",
    "            for j in range(r2_left,r2_right+1,2):\n",
    "                sigma = (p[i,j-1] + p[i,j+1])/dx**2 + (p[i-1,j] + p[i+1,j])/dy**2\n",
    "                p[i,j] = p[i,j] + omega*((b[i,j] - sigma)/a - p[i,j])\n",
    "        \n",
    "        \n",
    "        # Impose boundary conditions for pressure\n",
    "        p[:,0] = p[:,1]\n",
    "        p[:,nx-1] = p[:,nx-2]\n",
    "        p[0,:] = p[1,:]\n",
    "        p[ny-1,:] = 0.0  \n",
    "        \n",
    "        # Get residuals\n",
    "        tmp = laplacian_2D(nx,ny,dx,dy,p)\n",
    "        \n",
    "        resd[1:ny-1,1:nx-1] = tmp[1:ny-1,1:nx-1] - b[1:ny-1,1:nx-1]\n",
    "\n",
    "        # Frobenius norm\n",
    "        nrm = np.sum(np.absolute(resd)**2)**0.5\n",
    "        niter = niter + 1\n",
    "        \n",
    "    return(p,niter)"
   ]
  },
  {
   "cell_type": "markdown",
   "metadata": {},
   "source": [
    "** (6) Visualize Results **"
   ]
  },
  {
   "cell_type": "code",
   "execution_count": 7,
   "metadata": {
    "collapsed": true
   },
   "outputs": [],
   "source": [
    "def visualize_2D(numframe,pressure,velocity_u,velocity_v,xx,yy):\n",
    "    \"\"\"\n",
    "    Allows user to create gif of 2D system evolving in time \n",
    "    \"\"\"\n",
    "    \n",
    "    outputfile = \"NSE_2D_example.gif\"\n",
    "    delay_in_ms = 50\n",
    "    \n",
    "    fig,ax = plt.subplots(nrows = 1,ncols = 1,figsize = (10,10))\n",
    "    cmap = plt.get_cmap('jet')\n",
    "    \n",
    "    def animate(frame):\n",
    "        \n",
    "        p = pressure[frame]\n",
    "        u = velocity_u[frame]\n",
    "        v = velocity_v[frame]\n",
    "        ax.clear()\n",
    "        plt.contourf(xx, yy, p, 40, cmap = cmap)\n",
    "        ax.quiver(xx[::2, ::2], yy[::2, ::2], u[::2, ::2], v[::2, ::2], color='k')\n",
    "        ax.axis('square')\n",
    "        ax.set_xlabel('x',fontsize = 24)\n",
    "        ax.set_ylabel('y',fontsize = 24)\n",
    "        ax.set_title('Navier-Stokes Equations in 2D', fontsize = 24)\n",
    "        \n",
    "    anim = FuncAnimation(fig, animate, frames = (numframe), interval = delay_in_ms)\n",
    "    return(anim)\n",
    "    #anim.save(outputfile, writer='imagemagick', fps=30)"
   ]
  },
  {
   "cell_type": "markdown",
   "metadata": {},
   "source": [
    "** Main Program **"
   ]
  },
  {
   "cell_type": "code",
   "execution_count": 8,
   "metadata": {},
   "outputs": [
    {
     "ename": "KeyboardInterrupt",
     "evalue": "",
     "output_type": "error",
     "traceback": [
      "\u001b[0;31m---------------------------------------------------------------------------\u001b[0m",
      "\u001b[0;31mKeyboardInterrupt\u001b[0m                         Traceback (most recent call last)",
      "\u001b[0;32m<ipython-input-8-6b3bc4186332>\u001b[0m in \u001b[0;36m<module>\u001b[0;34m()\u001b[0m\n\u001b[1;32m     78\u001b[0m         \u001b[0;31m# Solve poisson equation for pressure at time n+1/2\u001b[0m\u001b[0;34m\u001b[0m\u001b[0;34m\u001b[0m\u001b[0m\n\u001b[1;32m     79\u001b[0m         \u001b[0mb\u001b[0m \u001b[0;34m=\u001b[0m \u001b[0mRHS_poisson\u001b[0m\u001b[0;34m(\u001b[0m\u001b[0mnx\u001b[0m\u001b[0;34m,\u001b[0m\u001b[0mny\u001b[0m\u001b[0;34m,\u001b[0m\u001b[0mdx\u001b[0m\u001b[0;34m,\u001b[0m\u001b[0mdy\u001b[0m\u001b[0;34m,\u001b[0m\u001b[0mrho\u001b[0m\u001b[0;34m,\u001b[0m\u001b[0mdt\u001b[0m\u001b[0;34m,\u001b[0m\u001b[0mu\u001b[0m\u001b[0;34m,\u001b[0m\u001b[0mv\u001b[0m\u001b[0;34m)\u001b[0m\u001b[0;34m\u001b[0m\u001b[0m\n\u001b[0;32m---> 80\u001b[0;31m         \u001b[0mp\u001b[0m\u001b[0;34m,\u001b[0m \u001b[0mniter\u001b[0m \u001b[0;34m=\u001b[0m \u001b[0msolve_poisson_2D\u001b[0m\u001b[0;34m(\u001b[0m\u001b[0mnx\u001b[0m\u001b[0;34m,\u001b[0m\u001b[0mny\u001b[0m\u001b[0;34m,\u001b[0m\u001b[0mdx\u001b[0m\u001b[0;34m,\u001b[0m\u001b[0mdy\u001b[0m\u001b[0;34m,\u001b[0m\u001b[0mb\u001b[0m\u001b[0;34m,\u001b[0m\u001b[0mp\u001b[0m\u001b[0;34m,\u001b[0m\u001b[0mtol\u001b[0m\u001b[0;34m)\u001b[0m\u001b[0;34m\u001b[0m\u001b[0m\n\u001b[0m\u001b[1;32m     81\u001b[0m \u001b[0;34m\u001b[0m\u001b[0m\n\u001b[1;32m     82\u001b[0m         \u001b[0;31m# Calculate pressure gradients\u001b[0m\u001b[0;34m\u001b[0m\u001b[0;34m\u001b[0m\u001b[0m\n",
      "\u001b[0;32m<ipython-input-6-766678ca5815>\u001b[0m in \u001b[0;36msolve_poisson_2D\u001b[0;34m(nx, ny, dx, dy, b, p, tol)\u001b[0m\n\u001b[1;32m     66\u001b[0m             \u001b[0;32mfor\u001b[0m \u001b[0mj\u001b[0m \u001b[0;32min\u001b[0m \u001b[0mrange\u001b[0m\u001b[0;34m(\u001b[0m\u001b[0mb1_left\u001b[0m\u001b[0;34m,\u001b[0m\u001b[0mb1_right\u001b[0m\u001b[0;34m+\u001b[0m\u001b[0;36m1\u001b[0m\u001b[0;34m,\u001b[0m\u001b[0;36m2\u001b[0m\u001b[0;34m)\u001b[0m\u001b[0;34m:\u001b[0m\u001b[0;34m\u001b[0m\u001b[0m\n\u001b[1;32m     67\u001b[0m                 \u001b[0;31m# SOR method\u001b[0m\u001b[0;34m\u001b[0m\u001b[0;34m\u001b[0m\u001b[0m\n\u001b[0;32m---> 68\u001b[0;31m                 \u001b[0msigma\u001b[0m \u001b[0;34m=\u001b[0m \u001b[0;34m(\u001b[0m\u001b[0mp\u001b[0m\u001b[0;34m[\u001b[0m\u001b[0mi\u001b[0m\u001b[0;34m,\u001b[0m\u001b[0mj\u001b[0m\u001b[0;34m-\u001b[0m\u001b[0;36m1\u001b[0m\u001b[0;34m]\u001b[0m \u001b[0;34m+\u001b[0m \u001b[0mp\u001b[0m\u001b[0;34m[\u001b[0m\u001b[0mi\u001b[0m\u001b[0;34m,\u001b[0m\u001b[0mj\u001b[0m\u001b[0;34m+\u001b[0m\u001b[0;36m1\u001b[0m\u001b[0;34m]\u001b[0m\u001b[0;34m)\u001b[0m\u001b[0;34m/\u001b[0m\u001b[0mdx\u001b[0m\u001b[0;34m**\u001b[0m\u001b[0;36m2\u001b[0m \u001b[0;34m+\u001b[0m \u001b[0;34m(\u001b[0m\u001b[0mp\u001b[0m\u001b[0;34m[\u001b[0m\u001b[0mi\u001b[0m\u001b[0;34m-\u001b[0m\u001b[0;36m1\u001b[0m\u001b[0;34m,\u001b[0m\u001b[0mj\u001b[0m\u001b[0;34m]\u001b[0m \u001b[0;34m+\u001b[0m \u001b[0mp\u001b[0m\u001b[0;34m[\u001b[0m\u001b[0mi\u001b[0m\u001b[0;34m+\u001b[0m\u001b[0;36m1\u001b[0m\u001b[0;34m,\u001b[0m\u001b[0mj\u001b[0m\u001b[0;34m]\u001b[0m\u001b[0;34m)\u001b[0m\u001b[0;34m/\u001b[0m\u001b[0mdy\u001b[0m\u001b[0;34m**\u001b[0m\u001b[0;36m2\u001b[0m\u001b[0;34m\u001b[0m\u001b[0m\n\u001b[0m\u001b[1;32m     69\u001b[0m                 \u001b[0mp\u001b[0m\u001b[0;34m[\u001b[0m\u001b[0mi\u001b[0m\u001b[0;34m,\u001b[0m\u001b[0mj\u001b[0m\u001b[0;34m]\u001b[0m \u001b[0;34m=\u001b[0m \u001b[0mp\u001b[0m\u001b[0;34m[\u001b[0m\u001b[0mi\u001b[0m\u001b[0;34m,\u001b[0m\u001b[0mj\u001b[0m\u001b[0;34m]\u001b[0m \u001b[0;34m+\u001b[0m \u001b[0momega\u001b[0m\u001b[0;34m*\u001b[0m\u001b[0;34m(\u001b[0m\u001b[0;34m(\u001b[0m\u001b[0mb\u001b[0m\u001b[0;34m[\u001b[0m\u001b[0mi\u001b[0m\u001b[0;34m,\u001b[0m\u001b[0mj\u001b[0m\u001b[0;34m]\u001b[0m \u001b[0;34m-\u001b[0m \u001b[0msigma\u001b[0m\u001b[0;34m)\u001b[0m\u001b[0;34m/\u001b[0m\u001b[0ma\u001b[0m \u001b[0;34m-\u001b[0m \u001b[0mp\u001b[0m\u001b[0;34m[\u001b[0m\u001b[0mi\u001b[0m\u001b[0;34m,\u001b[0m\u001b[0mj\u001b[0m\u001b[0;34m]\u001b[0m\u001b[0;34m)\u001b[0m\u001b[0;34m\u001b[0m\u001b[0m\n\u001b[1;32m     70\u001b[0m \u001b[0;34m\u001b[0m\u001b[0m\n",
      "\u001b[0;31mKeyboardInterrupt\u001b[0m: "
     ]
    }
   ],
   "source": [
    "# Discretization\n",
    "nx = 50\n",
    "ny = 50\n",
    "\n",
    "# System size \n",
    "Lx = 2.0\n",
    "Ly = 2.0\n",
    "dx = Lx/(nx-1)\n",
    "dy = Ly/(ny-1)\n",
    "\n",
    "x = np.linspace(0,Lx,nx)\n",
    "y = np.linspace(0,Ly,ny)\n",
    "\n",
    "xx,yy = np.meshgrid(x,y)\n",
    "\n",
    "# Timestep\n",
    "dt = 0.001\n",
    "t_0 = 0.0\n",
    "t_f = 0.5\n",
    "\n",
    "numframes = 100 # Number of frames to save for visualization (+1 for initial config)\n",
    "interval = int((t_f - t_0)//(dt*numframes)) # Save every nth frame \n",
    "t_steps = interval*numframes # number of time steps\n",
    "\n",
    "# Navier-Stokes parameters\n",
    "rho = 1.0\n",
    "nu = 0.1\n",
    "tol = 0.001 # Pressure-poisson convergence tolerance\n",
    "\n",
    "# Velocity field components\n",
    "u = np.zeros((ny,nx))\n",
    "v = np.zeros((ny,nx))\n",
    "\n",
    "# Laplacians of velocity\n",
    "lap_u = np.zeros((ny,nx))\n",
    "lap_v = np.zeros((ny,nx))\n",
    "\n",
    "# Pressure field, and RHS of pressure poisson equation\n",
    "p = np.zeros((ny,nx))\n",
    "b = np.zeros((ny,nx))\n",
    "\n",
    "# Pressure gradients\n",
    "dpdx = np.zeros((ny,nx))\n",
    "dpdy = np.zeros((ny,nx))\n",
    "\n",
    "# Advection terms \n",
    "advec_u = np.zeros((ny,nx))\n",
    "advec_v = np.zeros((ny,nx))\n",
    "\n",
    "# Pressure and velocity profiles \n",
    "time = np.zeros(numframes+1)\n",
    "velocity_u = np.zeros((numframes+1,ny,nx))\n",
    "velocity_v = np.zeros((numframes+1,ny,nx))\n",
    "pressure = np.zeros((numframes+1,ny,nx))\n",
    "\n",
    "# Initial configuration\n",
    "t = t_0\n",
    "time[0] = t\n",
    "velocity_u[0,:,:] = u\n",
    "velocity_v[0,:,:] = v\n",
    "pressure[0,:,:] = p\n",
    "\n",
    "for i in range(1,numframes):\n",
    "    for j in range(0,interval):\n",
    "        \n",
    "        # Calculate advection terms\n",
    "        advec_u = advec_terms_2D(nx,ny,dx,dy,u,v,u)\n",
    "        advec_v = advec_terms_2D(nx,ny,dx,dy,u,v,v)\n",
    "        \n",
    "        # Calculate laplacians of velocity\n",
    "        lap_u = laplacian_2D(nx,ny,dx,dy,u)\n",
    "        lap_v = laplacian_2D(nx,ny,dx,dy,v)\n",
    "        \n",
    "        # Advance velocity field to time n+1/2\n",
    "        u[1:ny-1,1:nx-1] = u[1:ny-1,1:nx-1] + dt*( -advec_u[1:ny-1,1:nx-1]  + nu*lap_u[1:ny-1,1:nx-1] )\n",
    "        v[1:ny-1,1:nx-1] = v[1:ny-1,1:nx-1] + dt*( -advec_v[1:ny-1,1:nx-1]  + nu*lap_v[1:ny-1,1:nx-1] )\n",
    "        \n",
    "        # Solve poisson equation for pressure at time n+1/2\n",
    "        b = RHS_poisson(nx,ny,dx,dy,rho,dt,u,v)\n",
    "        p, niter = solve_poisson_2D(nx,ny,dx,dy,b,p,tol)\n",
    "        \n",
    "        # Calculate pressure gradients\n",
    "        dpdx,dpdy = gradient_2D(nx,ny,dx,dy,p)\n",
    "        \n",
    "        # Advance velocity field to time n+1\n",
    "        u[1:ny-1,1:nx-1] = u[1:ny-1,1:nx-1] - dt/rho*dpdx[1:ny-1,1:nx-1]\n",
    "        v[1:ny-1,1:nx-1] = v[1:ny-1,1:nx-1] - dt/rho*dpdy[1:ny-1,1:nx-1]\n",
    "        \n",
    "        # Impose boundary conditions for u and v\n",
    "        v[0,:] = 0.0\n",
    "        v[ny-1,:] = 0.0\n",
    "        v[:,0] = 0.0\n",
    "        v[:,nx-1] = 0.0\n",
    "    \n",
    "        u[:,0] = 0.0\n",
    "        u[:,nx-1] = 0.0\n",
    "        u[0,:] = 0.0\n",
    "        u[ny-1,:] = 1.0\n",
    "        \n",
    "        # Update time \n",
    "        t = t + dt\n",
    "        \n",
    "    # Save snapshot of system \n",
    "    time[i] = t\n",
    "    velocity_u[i,:,:] = u\n",
    "    velocity_v[i,:,:] = v\n",
    "    pressure[i,:,:] = p"
   ]
  },
  {
   "cell_type": "code",
   "execution_count": null,
   "metadata": {},
   "outputs": [],
   "source": [
    "myanim = visualize_2D(numframes,pressure,velocity_u,velocity_v,xx,yy)\n",
    "HTML(myanim.to_html5_video())"
   ]
  },
  {
   "cell_type": "code",
   "execution_count": null,
   "metadata": {
    "collapsed": true
   },
   "outputs": [],
   "source": []
  },
  {
   "cell_type": "code",
   "execution_count": null,
   "metadata": {
    "collapsed": true
   },
   "outputs": [],
   "source": []
  },
  {
   "cell_type": "code",
   "execution_count": null,
   "metadata": {
    "collapsed": true
   },
   "outputs": [],
   "source": []
  }
 ],
 "metadata": {
  "kernelspec": {
   "display_name": "Python 3",
   "language": "python",
   "name": "python3"
  },
  "language_info": {
   "codemirror_mode": {
    "name": "ipython",
    "version": 3
   },
   "file_extension": ".py",
   "mimetype": "text/x-python",
   "name": "python",
   "nbconvert_exporter": "python",
   "pygments_lexer": "ipython3",
   "version": "3.6.1"
  }
 },
 "nbformat": 4,
 "nbformat_minor": 2
}
